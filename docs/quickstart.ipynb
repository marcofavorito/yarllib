{
 "cells": [
  {
   "cell_type": "markdown",
   "metadata": {
    "collapsed": true,
    "pycharm": {
     "name": "#%% md\n"
    }
   },
   "source": [
    "# Quickstart\n",
    "\n",
    "## Example: The Cliff Walking\n",
    "\n",
    "Let's solve the famous\n",
    "[Cliff Walking](https://github.com/openai/gym/blob/master/gym/envs/toy_text/cliffwalking.py)\n",
    "problem with tabular Q-Learning and SARSA [@sutton_barto_2018].\n",
    "\n",
    "Define the environment:"
   ]
  },
  {
   "cell_type": "code",
   "execution_count": 2,
   "outputs": [],
   "source": [
    "from gym.envs.toy_text import CliffWalkingEnv\n",
    "import matplotlib.pyplot as plt\n",
    "import pandas as pd\n",
    "import seaborn as sns\n",
    "from pandas import DataFrame\n",
    "\n",
    "from yarllib.helpers.history import History\n",
    "from yarllib.policies import EpsGreedyPolicy\n",
    "\n",
    "\n",
    "env = CliffWalkingEnv()\n",
    "\n",
    "def print_summary(history: History):\n",
    "    print(\"Training statistics:\")\n",
    "    print(f\"Number of episodes: {history.nb_episodes}\")\n",
    "    print(f\"Average total reward: {history.total_rewards.mean()}\")\n",
    "    print(f\"Average number of steps: {history.lengths.mean()}\")\n",
    "    print(f\"Average total reward (last 50 episodes): {history.total_rewards[:-50].mean()}\")\n",
    "    print(f\"Average number of steps (last 50 episodes): {history.lengths[:-50].mean()}\")\n"
   ],
   "metadata": {
    "collapsed": false,
    "pycharm": {
     "name": "#%%\n"
    }
   }
  },
  {
   "cell_type": "markdown",
   "source": [
    "First, let's define the parameters, common both to\n",
    "Q-Learning and SARSA:"
   ],
   "metadata": {
    "collapsed": false
   }
  },
  {
   "cell_type": "code",
   "execution_count": 3,
   "outputs": [],
   "source": [
    "nb_steps = 30000\n",
    "alpha = 0.1\n",
    "gamma = 0.99\n",
    "seed = 42\n",
    "epsilon = 0.1\n",
    "policy = EpsGreedyPolicy(epsilon)\n",
    "params = dict(\n",
    "    env=env,\n",
    "    nb_steps=nb_steps,\n",
    "    policy=policy,\n",
    "    seed=seed\n",
    ")\n"
   ],
   "metadata": {
    "collapsed": false,
    "pycharm": {
     "name": "#%%\n"
    }
   }
  },
  {
   "cell_type": "markdown",
   "source": [
    "Define the Q-Learning agent:"
   ],
   "metadata": {
    "collapsed": false
   }
  },
  {
   "cell_type": "code",
   "execution_count": 4,
   "outputs": [
    {
     "name": "stdout",
     "output_type": "stream",
     "text": [
      "Table dimensions: (48, 4)\n"
     ]
    }
   ],
   "source": [
    "from yarllib.learning.tabular import TabularQLearning\n",
    "\n",
    "qlearning = TabularQLearning(env.observation_space, env.action_space).agent()\n",
    "\n",
    "print(f\"Table dimensions: {qlearning.model.q.shape}\")"
   ],
   "metadata": {
    "collapsed": false,
    "pycharm": {
     "name": "#%%\n"
    }
   }
  },
  {
   "cell_type": "markdown",
   "source": [
    "Run for 30000 steps using $\\varepsilon$-greedy policy with $\\varepsilon = 0.1$:"
   ],
   "metadata": {
    "collapsed": false,
    "pycharm": {
     "name": "#%% md\n"
    }
   }
  },
  {
   "cell_type": "code",
   "execution_count": 5,
   "outputs": [
    {
     "name": "stdout",
     "output_type": "stream",
     "text": [
      "Training statistics:\n",
      "Number of episodes: 1268\n",
      "Average total reward: -60.027602523659304\n",
      "Average number of steps: 23.644321766561514\n",
      "Average total reward (last 50 episodes): -61.01313628899836\n",
      "Average number of steps (last 50 episodes): 23.949096880131364\n"
     ]
    }
   ],
   "source": [
    "qlearning_history = qlearning.train(**params)\n",
    "print_summary(qlearning_history)"
   ],
   "metadata": {
    "collapsed": false,
    "pycharm": {
     "name": "#%%\n"
    }
   }
  },
  {
   "cell_type": "markdown",
   "source": [
    "Define and train a SARSA agent:"
   ],
   "metadata": {
    "collapsed": false,
    "pycharm": {
     "name": "#%% md\n"
    }
   }
  },
  {
   "cell_type": "code",
   "execution_count": 6,
   "outputs": [
    {
     "name": "stdout",
     "output_type": "stream",
     "text": [
      "Training statistics:\n",
      "Number of episodes: 1210\n",
      "Average total reward: -33.78099173553719\n",
      "Average number of steps: 24.78099173553719\n",
      "Average total reward (last 50 episodes): -34.213793103448275\n",
      "Average number of steps (last 50 episodes): 25.08189655172414\n"
     ]
    }
   ],
   "source": [
    "from yarllib.learning.tabular import TabularSarsa\n",
    "\n",
    "sarsa = TabularSarsa(env.observation_space, env.action_space).agent()\n",
    "sarsa_history = sarsa.train(**params)\n",
    "print_summary(sarsa_history)"
   ],
   "metadata": {
    "collapsed": false,
    "pycharm": {
     "name": "#%%\n"
    }
   }
  },
  {
   "cell_type": "markdown",
   "source": [
    "Compare the sum of rewards:\n"
   ],
   "metadata": {
    "collapsed": false,
    "pycharm": {
     "name": "#%% md\n"
    }
   }
  },
  {
   "cell_type": "code",
   "execution_count": 7,
   "outputs": [
    {
     "data": {
      "text/plain": "<Figure size 432x288 with 1 Axes>",
      "image/png": "[encoded data removed]"
     },
     "metadata": {
      "needs_background": "light"
     },
     "output_type": "display_data"
    }
   ],
   "source": [
    "def _plot(histories, labels):\n",
    "    assert len(histories) == len(labels)\n",
    "    for h, l in zip(histories, labels):\n",
    "        data = h.total_rewards\n",
    "        df = DataFrame(data.T)\n",
    "        df = pd.concat([df[col] for col in df])\n",
    "        df = df.rolling(200).mean()\n",
    "        sns.lineplot(data=df, label=l)\n",
    "    plt.xlim(175, 600)\n",
    "\n",
    "_plot([qlearning_history, sarsa_history], [\"q-learning\", \"sarsa\"])\n"
   ],
   "metadata": {
    "collapsed": false,
    "pycharm": {
     "name": "#%%\n"
    }
   }
  },
  {
   "cell_type": "markdown",
   "source": [
    "We get what we expected: Q-Learning performs\n",
    "worse than SARSA, as explained in the Example 6.6\n",
    "in the Sutton & Barto textbook [@sutton_barto_2018]."
   ],
   "metadata": {
    "collapsed": false,
    "pycharm": {
     "name": "#%% md\n"
    }
   }
  }
 ],
 "metadata": {
  "kernelspec": {
   "display_name": "Python 3",
   "language": "python",
   "name": "python3"
  },
  "language_info": {
   "codemirror_mode": {
    "name": "ipython",
    "version": 2
   },
   "file_extension": ".py",
   "mimetype": "text/x-python",
   "name": "python",
   "nbconvert_exporter": "python",
   "pygments_lexer": "ipython2",
   "version": "2.7.6"
  }
 },
 "nbformat": 4,
 "nbformat_minor": 0
}